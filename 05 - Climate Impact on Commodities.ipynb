{
  "nbformat": 4,
  "nbformat_minor": 0,
  "metadata": {
    "colab": {
      "private_outputs": true,
      "provenance": []
    },
    "kernelspec": {
      "name": "python3",
      "display_name": "Python 3"
    },
    "language_info": {
      "name": "python"
    }
  },
  "cells": [
    {
      "cell_type": "markdown",
      "source": [
        "This notebook by [Kel Markert](https://github.com/KMarkert) walks through the use of Earth Engine within a Python environment to highlight combining different data sources from Earth Engine for visualization and analytics in the space of climate impact on commodity crops."
      ],
      "metadata": {
        "id": "AKmQXKNTczqw"
      }
    },
    {
      "cell_type": "code",
      "source": [
        "# Authenticate and Initialize Earth Engine\n",
        "import ee\n",
        "# Authenticate as your Qwiklabs User\n",
        "ee.Authenticate()\n",
        "# Initialize the library by specifying the GCP project\n",
        "your_project_id = ''\n",
        "ee.Initialize(project=your_project_id)"
      ],
      "metadata": {
        "id": "ERV-tgy7xgAe"
      },
      "execution_count": null,
      "outputs": []
    },
    {
      "cell_type": "code",
      "source": [
        "# import packages\n",
        "import google\n",
        "from google.colab import auth\n",
        "\n",
        "import ee\n",
        "import geemap\n",
        "import geemap.colormaps as cm"
      ],
      "metadata": {
        "id": "qaFIovVbPZKS"
      },
      "execution_count": null,
      "outputs": []
    },
    {
      "cell_type": "code",
      "source": [
        "# create a Map object with geemap to visualize EE results\n",
        "m = geemap.Map()"
      ],
      "metadata": {
        "id": "9t0IZcZcPogY"
      },
      "execution_count": null,
      "outputs": []
    },
    {
      "cell_type": "code",
      "source": [
        "# programically create a scratch cell for displaying the Map\n",
        "from google.colab import _frontend\n",
        "_frontend.create_scratch_cell(\"#@title Map\\nm\", False)"
      ],
      "metadata": {
        "id": "4pvwQYU3Uf7P"
      },
      "execution_count": null,
      "outputs": []
    },
    {
      "cell_type": "markdown",
      "source": [
        "## Flooding data\n",
        "\n",
        "Southeast Asia experiences regular flooding every year and is a large rice production region. Flooding affects rice production and can be useful for determining shifts in rice markets."
      ],
      "metadata": {
        "id": "vKG_E21sMnYK"
      }
    },
    {
      "cell_type": "code",
      "source": [
        "admin_lvl1 = ee.FeatureCollection('FAO/GAUL_SIMPLIFIED_500m/2015/level1')\n",
        "\n",
        "aoi = admin_lvl1.filter(ee.Filter.eq('ADM0_NAME', 'Cambodia'))\n",
        "\n",
        "m.center_object(aoi, 7);  # country of interest"
      ],
      "metadata": {
        "id": "LivWbYhdN6Qn"
      },
      "execution_count": null,
      "outputs": []
    },
    {
      "cell_type": "code",
      "source": [
        "# define the time period to view\n",
        "start_date = '2023-10-08'\n",
        "end_date = '2023-10-18'"
      ],
      "metadata": {
        "id": "2irum8hGMr-t"
      },
      "execution_count": null,
      "outputs": []
    },
    {
      "cell_type": "code",
      "source": [
        "# load in the Sentinel 1 dataset for time and location\n",
        "s1 = (\n",
        "    ee.ImageCollection('COPERNICUS/S1_GRD')\n",
        "    .filterDate(start_date, end_date)\n",
        "    .filterBounds(aoi)\n",
        "    .filter(ee.Filter.listContains('transmitterReceiverPolarisation', 'VV'))\n",
        "    .filter(ee.Filter.eq('instrumentMode', 'IW'))\n",
        "    .filter(ee.Filter.eq('orbitProperties_pass', 'ASCENDING'))\n",
        ")\n",
        "\n",
        "# create a composite from the data\n",
        "s1_composite = s1.mean()"
      ],
      "metadata": {
        "id": "nQIVk8ULMlq3"
      },
      "execution_count": null,
      "outputs": []
    },
    {
      "cell_type": "code",
      "source": [
        "# calculate water area from the satellite imagery\n",
        "# uses a simple thresholding technique\n",
        "water = s1_composite.select('VH').lte(-18).selfMask().rename('water')"
      ],
      "metadata": {
        "id": "2MYRzb4NRz_3"
      },
      "execution_count": null,
      "outputs": []
    },
    {
      "cell_type": "code",
      "source": [
        "# add S1 composite layer\n",
        "m.add_layer(s1_composite, {'bands': 'VH', 'min': -30, 'max': -5}, 'S1 Composite')\n",
        "\n",
        "# add surface water layer\n",
        "m.add_layer(water, {'min': 0,'max': 1, 'palette':['white', 'darkblue']}, 'Surface Water')"
      ],
      "metadata": {
        "id": "jzWZcrP0OsaS"
      },
      "execution_count": null,
      "outputs": []
    },
    {
      "cell_type": "markdown",
      "source": [
        "## Weather Forecasts\n",
        "\n",
        "Flooding is dependant on rainfall and by understanding what future rainfall patterns will be."
      ],
      "metadata": {
        "id": "rr681xwWUxyV"
      }
    },
    {
      "cell_type": "code",
      "source": [
        "# load in the Global Forecast System data\n",
        "# select to the precipitation forecast\n",
        "gfs_precip = (\n",
        "    ee.ImageCollection(\"NOAA/GFS0P25\")\n",
        "    .select('total_precipitation_surface')\n",
        ")"
      ],
      "metadata": {
        "id": "cOHOLz62UGiF"
      },
      "execution_count": null,
      "outputs": []
    },
    {
      "cell_type": "code",
      "source": [
        "# get the end date of flood layer and set  when forecasts start\n",
        "forecast_date = ee.Date(end_date)\n",
        "\n",
        "# filter the forecast data to the 5 day forecast from\n",
        "precip_forecast = (\n",
        "    gfs_precip\n",
        "    # filter by model initalization\n",
        "    .filterDate(forecast_date,forecast_date.advance(6,'hour'))\n",
        "    # filter to 5 day forecast\n",
        "    .filter(ee.Filter.And(\n",
        "        ee.Filter.gt('forecast_hours',0),\n",
        "        ee.Filter.lte('forecast_hours',72)\n",
        "    ))\n",
        ")"
      ],
      "metadata": {
        "id": "piozNdWwW3Lg"
      },
      "execution_count": null,
      "outputs": []
    },
    {
      "cell_type": "code",
      "source": [
        "# inspect the result to verify our filtering is correct\n",
        "precip_forecast"
      ],
      "metadata": {
        "id": "ml3bLLxxUJqY"
      },
      "execution_count": null,
      "outputs": []
    },
    {
      "cell_type": "code",
      "source": [
        "# calculate the accumulated precip forecast for the next five days\n",
        "precip_total = precip_forecast.sum().resample('bicubic').clip(aoi)"
      ],
      "metadata": {
        "id": "CF5FDUYWWJVo"
      },
      "execution_count": null,
      "outputs": []
    },
    {
      "cell_type": "code",
      "source": [
        "# add the accumulated precip image to the map\n",
        "m.add_layer(precip_total, {'min': 25,'max': 150, 'palette':cm.get_palette('viridis')}, 'Forecasted precip [mm]', True, 0.65)"
      ],
      "metadata": {
        "id": "Mapaze_5WCTK"
      },
      "execution_count": null,
      "outputs": []
    },
    {
      "cell_type": "markdown",
      "source": [
        "## Crop information\n",
        "\n",
        "Crop area is indicative of production and understanding impacts of floods can help assess production losses as well as economic impacts."
      ],
      "metadata": {
        "id": "TbIWIH36Juby"
      }
    },
    {
      "cell_type": "code",
      "source": [
        "# load in the dynamic world land cover dataset\n",
        "# filter to location and year of interest\n",
        "dynamic_world = (\n",
        "    ee.ImageCollection(\"GOOGLE/DYNAMICWORLD/V1\")\n",
        "    .filterBounds(aoi)\n",
        "    .filterDate(\"2023-01-01\", \"2024-01-01\")\n",
        ")"
      ],
      "metadata": {
        "id": "rPXOMlLK7in8"
      },
      "execution_count": null,
      "outputs": []
    },
    {
      "cell_type": "code",
      "source": [
        "# create a land cover composite and select crop areas\n",
        "crops = dynamic_world.select('label').mode().eq(4)\n",
        "\n",
        "# indentify intersection of crops and surface water\n",
        "inundated_crops = crops.And(water)"
      ],
      "metadata": {
        "id": "9CZKLsAB7joG"
      },
      "execution_count": null,
      "outputs": []
    },
    {
      "cell_type": "code",
      "source": [
        "# add crop layer to map\n",
        "m.add_layer(crops.selfMask(), {'min': 0,'max': 1, 'palette':['white', 'orange']}, 'Crops', False)\n",
        "\n",
        "# add inundated crop layer to map\n",
        "m.add_layer(inundated_crops.selfMask(), {'min': 0,'max': 1, 'palette':['white', 'Red']}, 'Inundated Crops')"
      ],
      "metadata": {
        "id": "mv9bcFZD7wDe"
      },
      "execution_count": null,
      "outputs": []
    },
    {
      "cell_type": "markdown",
      "source": [
        "## Analytics\n",
        "\n",
        "Up until now Earth Engine has been used for calculating geospatial data and visualizing it. Now, that geospatial data will be distilled to information that can be used for a decision."
      ],
      "metadata": {
        "id": "XUr1KhYpUS7L"
      }
    },
    {
      "cell_type": "code",
      "source": [
        "import ipywidgets as widgets\n",
        "from IPython.display import display\n",
        "\n",
        "# load in packages for charting and local data structure\n",
        "import altair as alt\n",
        "import pandas as pd"
      ],
      "metadata": {
        "id": "Ew6o2zHpUsvK"
      },
      "execution_count": null,
      "outputs": []
    },
    {
      "cell_type": "code",
      "source": [
        "# add the Admin features to the map for visualization\n",
        "m.add_layer(\n",
        "    aoi.style(\n",
        "        color= '000000',\n",
        "        width= 2,\n",
        "        fillColor= 'ffffff00',  # with alpha set for partial transparency\n",
        "    ),\n",
        "    {},\n",
        "    'Admin Lvl 1'\n",
        ")\n"
      ],
      "metadata": {
        "id": "zL-34d-zWExj"
      },
      "execution_count": null,
      "outputs": []
    },
    {
      "cell_type": "code",
      "source": [
        "#@title Time series function\n",
        "def get_timeseries(province):\n",
        "    \"\"\"Calcualte a time series of average temperature for a given US state\n",
        "\n",
        "       args:\n",
        "           state_name (str): name of the state to get temperature time series\n",
        "\n",
        "        returns:\n",
        "            pd.DataFrame: table of time series for yearly average temperature\n",
        "    \"\"\"\n",
        "\n",
        "    def calc_ts(t):\n",
        "        # determine start and end time for the reduction\n",
        "        t1 = ee.Date(t)\n",
        "        t2 = t1.advance(1, 'hour')\n",
        "\n",
        "        # get the first image within time range\n",
        "        img = precip_forecast.filter(ee.Filter.eq('forecast_time', t)).first()\n",
        "\n",
        "        # apply the reduction for the areal avg precip\n",
        "        stat = img.reduceRegion(\n",
        "            geometry=province.geometry(),\n",
        "            reducer=ee.Reducer.mean(),\n",
        "            scale=img.projection().nominalScale(),\n",
        "            tileScale=2\n",
        "        )\n",
        "\n",
        "        # update the reduction result with time info\n",
        "        stat = stat.combine({\n",
        "            'date': t1.format('YYYY-MM-dd HH:mm:ss'),\n",
        "            'system:time_start': t1.millis()\n",
        "        })\n",
        "        return province.set(stat).setGeometry(None)\n",
        "\n",
        "    # get the years for a time series\n",
        "    datetimes = precip_forecast.aggregate_array('forecast_time')\n",
        "\n",
        "    # map over all of the forecast times and convert to FeatureCollection\n",
        "    ts = ee.FeatureCollection(datetimes.map(calc_ts))\n",
        "\n",
        "    # request that the table be returned as pd.DataFrame\n",
        "    return ee.data.computeFeatures({\n",
        "        'expression': ts,\n",
        "        'fileFormat': 'PANDAS_DATAFRAME'\n",
        "    })"
      ],
      "metadata": {
        "id": "1H5wADSXJ1BD",
        "cellView": "form"
      },
      "execution_count": null,
      "outputs": []
    },
    {
      "cell_type": "code",
      "source": [
        "#@title Select province for summary stats\n",
        "provinces = aoi.aggregate_array(\"ADM1_NAME\").getInfo()\n",
        "\n",
        "Dropdown_ = widgets.Dropdown(\n",
        "    options=provinces,\n",
        "    description='Select Province',\n",
        ")\n",
        "output = widgets.Output()\n",
        "\n",
        "display(Dropdown_)"
      ],
      "metadata": {
        "cellView": "form",
        "id": "ndR87pQZUdEQ"
      },
      "execution_count": null,
      "outputs": []
    },
    {
      "cell_type": "code",
      "source": [
        "# get the selected province\n",
        "province_name = Dropdown_.value\n",
        "province_feature = ee.Feature(\n",
        "    aoi.filter(ee.Filter.eq('ADM1_NAME', province_name)).first()\n",
        ")"
      ],
      "metadata": {
        "id": "7wXl1S9VU9h1"
      },
      "execution_count": null,
      "outputs": []
    },
    {
      "cell_type": "code",
      "source": [
        "# request the precip forecast time series for province\n",
        "ts_data = get_timeseries(province_feature)"
      ],
      "metadata": {
        "id": "tcUBPtfCMxDE"
      },
      "execution_count": null,
      "outputs": []
    },
    {
      "cell_type": "code",
      "source": [
        "# plot the data as a timeseries\n",
        "alt.Chart(ts_data).mark_area().encode(\n",
        "    x=alt.X('date:T', axis=alt.Axis(title='Datetime', format=\"%Y-%m-%d %H:%M:%S\")),\n",
        "    y=alt.Y('total_precipitation_surface:Q',axis=alt.Axis(title='Precipitation [mm]')),\n",
        "    tooltip=[\n",
        "            alt.Tooltip('date:T', title='Datetime', format=\"%Y-%m-%d %H:%M:%S\"),\n",
        "            alt.Tooltip('total_precipitation_surface:Q', title='Precipitation [mm]')\n",
        "    ]\n",
        ").properties(\n",
        "    width=700,\n",
        "    height=300\n",
        ")"
      ],
      "metadata": {
        "id": "QueEtEHIMzlt"
      },
      "execution_count": null,
      "outputs": []
    },
    {
      "cell_type": "code",
      "source": [
        "# combine surface water and precip forecast images\n",
        "hydro_layers = water.unmask(0).addBands(precip_total.rename('precip'))\n",
        "\n",
        "# calculate the average for both surface water and precip\n",
        "# for the province area\n",
        "hydro_stats = hydro_layers.reduceRegion(\n",
        "    reducer=ee.Reducer.mean(),\n",
        "    geometry=province_feature.geometry(),\n",
        "    scale=100,\n",
        ")"
      ],
      "metadata": {
        "id": "SMBPifbygh0K"
      },
      "execution_count": null,
      "outputs": []
    },
    {
      "cell_type": "code",
      "source": [
        "# get the area of crops for the selected province\n",
        "inundated_crop_area = (\n",
        "    inundated_crops\n",
        "    # convert binary image to area\n",
        "    .multiply(ee.Image.pixelArea())\n",
        "    # convert to sq km\n",
        "    .multiply(1e-6)\n",
        "    # get the sum of crop area inundated\n",
        "    .reduceRegion(\n",
        "        reducer=ee.Reducer.sum(),\n",
        "        geometry=province_feature.geometry(),\n",
        "        scale=100,\n",
        "    )\n",
        ").get('label')"
      ],
      "metadata": {
        "id": "6bwjdl7EHTQb"
      },
      "execution_count": null,
      "outputs": []
    },
    {
      "cell_type": "code",
      "source": [
        "# print the summary statistics\n",
        "print(f'Area avg forecasted precip: {hydro_stats.get(\"precip\").getInfo():.2f} mm')\n",
        "print(f'% Area covered by water: {hydro_stats.get(\"water\").getInfo()*100:.2f} %')\n",
        "print(f'Inundated crop area: {inundated_crop_area.getInfo():.2f} sq km')"
      ],
      "metadata": {
        "id": "6_zXMhzshtUe"
      },
      "execution_count": null,
      "outputs": []
    },
    {
      "cell_type": "code",
      "source": [],
      "metadata": {
        "id": "cfmC1Zp1OCFu"
      },
      "execution_count": null,
      "outputs": []
    }
  ]
}