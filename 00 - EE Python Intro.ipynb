{
  "cells": [
    {
      "cell_type": "code",
      "id": "qZGvR0Y9Z9xsvfiyhQapDeL6",
      "metadata": {
        "tags": [],
        "id": "qZGvR0Y9Z9xsvfiyhQapDeL6"
      },
      "source": [
        "# Import the Earth Engine Python Library\n",
        "import ee"
      ],
      "execution_count": null,
      "outputs": []
    },
    {
      "cell_type": "code",
      "source": [
        "# Authenticate as your Qwiklabs User\n",
        "ee.Authenticate()"
      ],
      "metadata": {
        "id": "zKX0u2aN_4-t"
      },
      "id": "zKX0u2aN_4-t",
      "execution_count": null,
      "outputs": []
    },
    {
      "cell_type": "code",
      "source": [
        "# Initialize the library by specifying the GCP project\n",
        "your_project_id = ''\n",
        "ee.Initialize(project=your_project_id)"
      ],
      "metadata": {
        "id": "6KHdA41j_9ad"
      },
      "id": "6KHdA41j_9ad",
      "execution_count": null,
      "outputs": []
    },
    {
      "cell_type": "code",
      "source": [
        "# Ensure you can interact with Earth Engine\n",
        "# Get the metadata of a commonly used Image\n",
        "ee.Image('USGS/SRTMGL1_003').getInfo()"
      ],
      "metadata": {
        "id": "SXf0PDiJBI98"
      },
      "id": "SXf0PDiJBI98",
      "execution_count": null,
      "outputs": []
    }
  ],
  "metadata": {
    "kernelspec": {
      "display_name": "Python 3",
      "language": "python",
      "name": "python3"
    },
    "language_info": {
      "codemirror_mode": {
        "name": "ipython",
        "version": 3
      },
      "file_extension": ".py",
      "mimetype": "text/x-python",
      "name": "python",
      "nbconvert_exporter": "python",
      "pygments_lexer": "ipython3",
      "version": "3.10.10"
    },
    "colab": {
      "provenance": []
    }
  },
  "nbformat": 4,
  "nbformat_minor": 5
}