{
  "cells": [
    {
      "cell_type": "code",
      "id": "TUMVRUHDi53JKzfr0CwWJxR8",
      "metadata": {
        "tags": [],
        "id": "TUMVRUHDi53JKzfr0CwWJxR8"
      },
      "source": [
        "# Authenticate and Initialize Earth Engine\n",
        "import ee\n",
        "# Authenticate as your Qwiklabs User\n",
        "ee.Authenticate()\n",
        "# Initialize the library by specifying the GCP project\n",
        "your_project_id = ''\n",
        "ee.Initialize(project=your_project_id)"
      ],
      "execution_count": null,
      "outputs": []
    },
    {
      "cell_type": "code",
      "source": [
        "# Import geemap\n",
        "import geemap.core as geemap"
      ],
      "metadata": {
        "id": "SuUHiaY4VnEJ"
      },
      "id": "SuUHiaY4VnEJ",
      "execution_count": null,
      "outputs": []
    },
    {
      "cell_type": "markdown",
      "source": [
        "## Basemap selector\n",
        "\n",
        "Load the geemap viewer. Select a basemap from the dropdown list and add it to the map."
      ],
      "metadata": {
        "id": "fYQbc5wnVW3b"
      },
      "id": "fYQbc5wnVW3b"
    },
    {
      "cell_type": "code",
      "source": [
        "m = geemap.Map()\n",
        "m.add(\"basemap_selector\")\n",
        "m"
      ],
      "metadata": {
        "id": "NKfbQSbnVZKh"
      },
      "id": "NKfbQSbnVZKh",
      "execution_count": null,
      "outputs": []
    },
    {
      "cell_type": "markdown",
      "source": [
        "## Layer Manager\n",
        "\n",
        "Load an EE Image and a FeatureCollection as a layer. Toggle the checkbox to show or hide the layer. Drag and move the slider to change the transparency level of the layer."
      ],
      "metadata": {
        "id": "yYHMLMdwV2-p"
      },
      "id": "yYHMLMdwV2-p"
    },
    {
      "cell_type": "code",
      "source": [
        "m = geemap.Map(center=(40, -100), zoom=4)\n",
        "dem = ee.Image('USGS/SRTMGL1_003')\n",
        "states = ee.FeatureCollection(\"TIGER/2018/States\")\n",
        "vis_params = {\n",
        "    'min': 0,\n",
        "    'max': 4000,\n",
        "    'palette': ['006633', 'E5FFCC', '662A00', 'D8D8D8', 'F5F5F5'],\n",
        "}\n",
        "m.add_layer(dem, vis_params, 'SRTM DEM')\n",
        "m.add_layer(states, {}, \"US States\")\n",
        "m.add('layer_manager')\n",
        "m"
      ],
      "metadata": {
        "id": "v8UMH-RmV6n9"
      },
      "id": "v8UMH-RmV6n9",
      "execution_count": null,
      "outputs": []
    },
    {
      "cell_type": "markdown",
      "source": [
        "## Inspector\n",
        "\n",
        "Click on the map to query Earth Engine data at a specific location."
      ],
      "metadata": {
        "id": "renxzGW_WzOA"
      },
      "id": "renxzGW_WzOA"
    },
    {
      "cell_type": "code",
      "source": [
        "m = geemap.Map(center=(40, -100), zoom=4)\n",
        "dem = ee.Image('USGS/SRTMGL1_003')\n",
        "landsat7 = ee.Image('LANDSAT/LE7_TOA_5YEAR/1999_2003')\n",
        "states = ee.FeatureCollection(\"TIGER/2018/States\")\n",
        "vis_params = {\n",
        "    'min': 0,\n",
        "    'max': 4000,\n",
        "    'palette': ['006633', 'E5FFCC', '662A00', 'D8D8D8', 'F5F5F5'],\n",
        "}\n",
        "m.add_layer(dem, vis_params, 'SRTM DEM')\n",
        "m.add_layer(\n",
        "    landsat7,\n",
        "    {'bands': ['B4', 'B3', 'B2'], 'min': 20, 'max': 200, 'gamma': 2.0},\n",
        "    'Landsat 7',\n",
        ")\n",
        "m.add_layer(states, {}, \"US States\")\n",
        "m.add('inspector')\n",
        "m"
      ],
      "metadata": {
        "id": "WRdZWsCmW6Gk"
      },
      "id": "WRdZWsCmW6Gk",
      "execution_count": null,
      "outputs": []
    },
    {
      "cell_type": "markdown",
      "source": [
        "## Layer Editor\n",
        "\n",
        "You can change the visualization parameters of the Earth Engine data using the layer editor.\n",
        "\n",
        "### Single-band image"
      ],
      "metadata": {
        "id": "wUJ7o6ZWXdCv"
      },
      "id": "wUJ7o6ZWXdCv"
    },
    {
      "cell_type": "code",
      "source": [
        "m = geemap.Map(center=(40, -100), zoom=4)\n",
        "dem = ee.Image('USGS/SRTMGL1_003')\n",
        "vis_params = {\n",
        "    'min': 0,\n",
        "    'max': 4000,\n",
        "    'palette': ['006633', 'E5FFCC', '662A00', 'D8D8D8', 'F5F5F5'],\n",
        "}\n",
        "m.add_layer(dem, vis_params, 'SRTM DEM')\n",
        "m.add('layer_editor', layer_dict=m.ee_layers['SRTM DEM'])\n",
        "m"
      ],
      "metadata": {
        "id": "25ZdLx3zXga2"
      },
      "id": "25ZdLx3zXga2",
      "execution_count": null,
      "outputs": []
    },
    {
      "cell_type": "markdown",
      "source": [
        "### Multi-band image"
      ],
      "metadata": {
        "id": "ypnF8NVEXptF"
      },
      "id": "ypnF8NVEXptF"
    },
    {
      "cell_type": "code",
      "source": [
        "m = geemap.Map(center=(40, -100), zoom=4)\n",
        "landsat7 = ee.Image('LANDSAT/LE7_TOA_5YEAR/1999_2003')\n",
        "m.add_layer(\n",
        "    landsat7,\n",
        "    {'bands': ['B4', 'B3', 'B2'], 'min': 20, 'max': 200, 'gamma': 2.0},\n",
        "    'Landsat 7',\n",
        ")\n",
        "m.add('layer_editor', layer_dict=m.ee_layers['Landsat 7'])\n",
        "m"
      ],
      "metadata": {
        "id": "0mthQ5GPXqOZ"
      },
      "id": "0mthQ5GPXqOZ",
      "execution_count": null,
      "outputs": []
    },
    {
      "cell_type": "markdown",
      "source": [
        "### Feature collection"
      ],
      "metadata": {
        "id": "i2s9TN-HX2rB"
      },
      "id": "i2s9TN-HX2rB"
    },
    {
      "cell_type": "code",
      "source": [
        "m = geemap.Map(center=(40, -100), zoom=4)\n",
        "states = ee.FeatureCollection(\"TIGER/2018/States\")\n",
        "m.add_layer(states, {}, \"US States\")\n",
        "m.add('layer_editor', layer_dict=m.ee_layers['US States'])\n",
        "m"
      ],
      "metadata": {
        "id": "-uyw-rs6X5rr"
      },
      "id": "-uyw-rs6X5rr",
      "execution_count": null,
      "outputs": []
    },
    {
      "cell_type": "markdown",
      "source": [
        "## Draw control\n",
        "\n",
        "You can draw shapes on the map using the draw control. The drawn features will be **automatically** converted to Earth Engine objects, which can be accessed in one of the following ways:\n",
        "\n",
        "- To return the last drawn feature as an `ee.Geometry()`, use: `m._draw_control.last_geometry`\n",
        "- To return all the drawn feature as an `ee.Feature()`, use: `m._draw_control.last_feature`\n",
        "- To return all the drawn features as an `ee.FeatureCollection()`, use: `m._draw_control.collection`"
      ],
      "metadata": {
        "id": "N-mXxyqbYGjZ"
      },
      "id": "N-mXxyqbYGjZ"
    },
    {
      "cell_type": "code",
      "source": [
        "m = geemap.Map(center=(40, -100), zoom=4)\n",
        "dem = ee.Image('USGS/SRTMGL1_003')\n",
        "vis_params = {\n",
        "    'min': 0,\n",
        "    'max': 4000,\n",
        "    'palette': 'terrain',\n",
        "}\n",
        "m.add_layer(dem, vis_params, 'SRTM DEM')\n",
        "m.add('layer_manager')\n",
        "m"
      ],
      "metadata": {
        "id": "NN8lrO3yYKvF"
      },
      "id": "NN8lrO3yYKvF",
      "execution_count": null,
      "outputs": []
    },
    {
      "cell_type": "markdown",
      "source": [
        "Use the draw control to draw a polygon on the map."
      ],
      "metadata": {
        "id": "iY5ACnQpYYiK"
      },
      "id": "iY5ACnQpYYiK"
    },
    {
      "cell_type": "markdown",
      "source": [
        "### Explore the EE Geometry, Feature ,and FeatureCollection from your drawn feature\n"
      ],
      "metadata": {
        "id": "Uv5juiMhZIx6"
      },
      "id": "Uv5juiMhZIx6"
    },
    {
      "cell_type": "code",
      "source": [
        "geometry = m._draw_control.last_geometry\n",
        "geometry"
      ],
      "metadata": {
        "id": "xUfnCHrlYex2"
      },
      "id": "xUfnCHrlYex2",
      "execution_count": null,
      "outputs": []
    },
    {
      "cell_type": "code",
      "source": [
        "feature = m._draw_control.last_feature\n",
        "feature"
      ],
      "metadata": {
        "id": "YoOKqHloYj-q"
      },
      "id": "YoOKqHloYj-q",
      "execution_count": null,
      "outputs": []
    },
    {
      "cell_type": "code",
      "source": [
        "collection = m._draw_control.collection\n",
        "collection"
      ],
      "metadata": {
        "id": "Y_mV1DIuYmjg"
      },
      "id": "Y_mV1DIuYmjg",
      "execution_count": null,
      "outputs": []
    },
    {
      "cell_type": "code",
      "source": [
        "if geometry is not None:\n",
        "    image = dem.clipToCollection(collection)\n",
        "    m.layers[1].visible = False\n",
        "    m.add_layer(image, vis_params, \"Clipped DEM\")\n",
        "m"
      ],
      "metadata": {
        "id": "LeG-pY5mYouU"
      },
      "id": "LeG-pY5mYouU",
      "execution_count": null,
      "outputs": []
    },
    {
      "cell_type": "markdown",
      "source": [
        "### Zonal statistics\n",
        "\n",
        "Find out which state has the highest mean temperature on in the United States on January 30, 2024. Relevant Earth Engine assets:\n",
        "\n",
        "- [ee.FeatureCollection(\"TIGER/2018/States\")](https://developers.google.com/earth-engine/datasets/catalog/TIGER_2018_States)\n",
        "- [ee.ImageCollection(\"NOAA/GFS0P25\")](https://developers.google.com/earth-engine/datasets/catalog/NOAA_GFS0P25)\n",
        "\n",
        "![](https://i.imgur.com/GZCHHz3.png)"
      ],
      "metadata": {
        "id": "iLwHuxX7ZqKZ"
      },
      "id": "iLwHuxX7ZqKZ"
    },
    {
      "cell_type": "code",
      "source": [
        "m = geemap.Map()\n",
        "\n",
        "# Load US States\n",
        "states = ee.FeatureCollection(\"TIGER/2018/States\")\n",
        "\n",
        "# GFS collects four observations per day. Let's get the first ones after noon\n",
        "# We'll also get the zero-hour forecast.\n",
        "startTime = ee.Date('2024-01-29T12:00:00', 'US/Eastern')\n",
        "endTime = ee.Date(startTime.advance(6, 'hour'))\n",
        "weather = ee.ImageCollection(\"NOAA/GFS0P25\").filter(ee.Filter.date(startTime, endTime)) \\\n",
        "                                            .filter(ee.Filter.eq('forecast_hours', 0))\n",
        "\n",
        "temperatureAboveGround = weather.select('temperature_2m_above_ground').first()\n",
        "visParams = {\n",
        "    'min': -40.0,\n",
        "    'max': 35.0,\n",
        "    'palette': ['blue', 'purple', 'cyan', 'green', 'yellow', 'red']\n",
        "}\n",
        "\n",
        "m.addLayer(temperatureAboveGround.clip(states), visParams, 'Temperature Above Ground')\n",
        "m.addLayer(states, {}, \"State Outlines\")\n",
        "\n",
        "\n",
        "states = temperatureAboveGround.reduceRegions(collection=states, reducer=ee.Reducer.mean(), scale=25000)\n",
        "# Results are returned as a new property called 'mean' on each state.\n",
        "\n",
        "# This approach is documented here - https://developers.google.com/earth-engine/guides/feature_collections_visualizing\n",
        "empty = ee.Image().float();\n",
        "fills = empty.paint(states, 'mean');\n",
        "m.addLayer(fills, visParams, \"Mean Temp\")\n",
        "\n",
        "m.addLayer(states, {}, \"State Outlines\")\n",
        "\n",
        "m"
      ],
      "metadata": {
        "id": "C_qF9ouVZ7J0"
      },
      "id": "C_qF9ouVZ7J0",
      "execution_count": null,
      "outputs": []
    },
    {
      "cell_type": "code",
      "source": [
        "hottest_state = states.sort(\"mean\",False).first()\n",
        "hottest_state"
      ],
      "metadata": {
        "id": "Vw2SH1ZHatqs"
      },
      "id": "Vw2SH1ZHatqs",
      "execution_count": null,
      "outputs": []
    }
  ],
  "metadata": {
    "kernelspec": {
      "display_name": "Python 3",
      "language": "python",
      "name": "python3"
    },
    "language_info": {
      "codemirror_mode": {
        "name": "ipython",
        "version": 3
      },
      "file_extension": ".py",
      "mimetype": "text/x-python",
      "name": "python",
      "nbconvert_exporter": "python",
      "pygments_lexer": "ipython3",
      "version": "3.10.10"
    },
    "colab": {
      "provenance": []
    }
  },
  "nbformat": 4,
  "nbformat_minor": 5
}