{
  "cells": [
    {
      "cell_type": "code",
      "source": [
        "# Modified Example from Warda Rahim, QBE Insurance\n",
        "# https://medium.com/@wardarahim25/zonal-statistics-using-google-earth-engine-and-visualisation-using-python-fb74cc1b1efc"
      ],
      "metadata": {
        "id": "QDOy5A99Opqt"
      },
      "id": "QDOy5A99Opqt",
      "execution_count": null,
      "outputs": []
    },
    {
      "cell_type": "code",
      "id": "bXBXZS6HYNrpXXjypQY1EnWN",
      "metadata": {
        "tags": [],
        "id": "bXBXZS6HYNrpXXjypQY1EnWN"
      },
      "source": [
        "# Install h3 and tobler\n",
        "!pip install h3 tobler"
      ],
      "execution_count": null,
      "outputs": []
    },
    {
      "cell_type": "code",
      "source": [
        "# Authenticate and Initialize Earth Engine\n",
        "import ee\n",
        "# Authenticate as your Qwiklabs User\n",
        "ee.Authenticate()\n",
        "# Initialize the library by specifying the GCP project\n",
        "your_project_id = ''\n",
        "ee.Initialize(project=your_project_id)"
      ],
      "metadata": {
        "id": "qA9zOzKSMTdu"
      },
      "id": "qA9zOzKSMTdu",
      "execution_count": null,
      "outputs": []
    },
    {
      "cell_type": "code",
      "source": [
        "# Import required libraries for dataframes and plotting\n",
        "import numpy as np\n",
        "import pandas as pd\n",
        "import geopandas as gpd\n",
        "import matplotlib.pyplot as plt\n",
        "from mpl_toolkits.axes_grid1 import make_axes_locatable\n",
        "\n",
        "from shapely.wkt import loads\n",
        "from tobler.util import h3fy"
      ],
      "metadata": {
        "id": "XWuKHFxVLUEF"
      },
      "id": "XWuKHFxVLUEF",
      "execution_count": null,
      "outputs": []
    },
    {
      "cell_type": "code",
      "source": [
        "# Get the US Boundary Using Big Query Public Data\n",
        "query = \"\"\"SELECT * FROM `bigquery-public-data.geo_us_boundaries.national_outline`\"\"\"\n",
        "conus = pd.read_gbq(query)\n",
        "\n",
        "conus = conus.iloc[:, 0].apply(loads) #get the geometric object from string\n",
        "conus = gpd.GeoDataFrame(conus, geometry=conus.name, crs='epsg:4326') #convert conus to a geodataframe"
      ],
      "metadata": {
        "id": "JZS5LF2zLmJ7"
      },
      "id": "JZS5LF2zLmJ7",
      "execution_count": null,
      "outputs": []
    },
    {
      "cell_type": "code",
      "source": [
        "# Create Hexagonal H3 Grid For The US Region\n",
        "hexgrid_us = h3fy(conus.buffer(0.01), resolution=4).reset_index()"
      ],
      "metadata": {
        "id": "_GvzaxsPLvnL"
      },
      "id": "_GvzaxsPLvnL",
      "execution_count": null,
      "outputs": []
    },
    {
      "cell_type": "code",
      "source": [
        "# Select rows with latitudes (20 to 60) and longitudes (-130 to -65)\n",
        "\n",
        "hexgrid_us['longitude'] = hexgrid_us['geometry'].apply(lambda x: x.centroid.coords.xy[0][0])\n",
        "hexgrid_us['latitude'] = hexgrid_us['geometry'].apply(lambda x: x.centroid.coords.xy[1][0])\n",
        "hexgrid_us = hexgrid_us[(hexgrid_us['longitude'].between(-130, -65)) & (hexgrid_us['latitude'].between(20, 60))][['hex_id', 'geometry']]"
      ],
      "metadata": {
        "id": "3b7eZGjGL2c5"
      },
      "id": "3b7eZGjGL2c5",
      "execution_count": null,
      "outputs": []
    },
    {
      "cell_type": "code",
      "source": [
        "# Plot the geodataframe\n",
        "fig, ax = plt.subplots(figsize=(30, 26))\n",
        "\n",
        "hexgrid_us.plot(ax=ax, color='orange', edgecolor='grey', alpha=0.6)\n",
        "ax.set_axis_off()"
      ],
      "metadata": {
        "id": "w3HBt-QTMAVv"
      },
      "id": "w3HBt-QTMAVv",
      "execution_count": null,
      "outputs": []
    },
    {
      "cell_type": "code",
      "source": [
        "# Create an Earth Engine Feature from a Shapely geometry\n",
        "def get_ee_feature(geom):\n",
        "    x,y = geom.exterior.coords.xy\n",
        "    coords = np.dstack((x,y)).tolist()\n",
        "    g = ee.Geometry.Polygon(coords)\n",
        "    return ee.Feature(g)\n",
        "\n",
        "features = ee.FeatureCollection([get_ee_feature(x[1].geometry) for x in hexgrid_us.iterrows()])\n",
        "\n",
        "# Create a single image from an ImageCollection and select the band you are interested in\n",
        "image_collection = ee.ImageCollection(\"ECMWF/ERA5_LAND/MONTHLY\")\n",
        "image = image_collection.filterDate('2015-01-01', '2023-12-31').select('temperature_2m').mean()\n",
        "\n",
        "# Calculate Zonal Statistics\n",
        "zone_stats = image.reduceRegions(collection=features, reducer=ee.Reducer.mean(), scale=11132, tileScale=1).getInfo()\n",
        "zone_stats = gpd.GeoDataFrame.from_features(zone_stats, crs='epsg:4326')"
      ],
      "metadata": {
        "id": "V8nYorNjMKBy"
      },
      "id": "V8nYorNjMKBy",
      "execution_count": null,
      "outputs": []
    },
    {
      "cell_type": "code",
      "source": [
        "fig, ax= plt.subplots(figsize=(30,26))\n",
        "\n",
        "# Define the legend axes\n",
        "divider = make_axes_locatable(ax)\n",
        "cax = divider.append_axes(\"right\", size=\"5%\", pad=0.1)\n",
        "\n",
        "# Plot the US map with hexagons where the colour of each hexagon represents the mean air temperature value\n",
        "zone_stats.plot(column='mean', ax=ax, cmap='OrRd', legend=True, cax=cax)\n",
        "\n",
        "# Customise the legend\n",
        "cax.minorticks_on()\n",
        "cax.tick_params(which='major', direction='in', length=18, width=2, labelsize=24)\n",
        "cax.tick_params(which='minor', direction='in', length=12, width=2, labelsize=24)\n",
        "cax.set_title('Temperature (K)', fontsize=24)\n",
        "\n",
        "# Turn the x-axis and y-axis off\n",
        "ax.set_axis_off()"
      ],
      "metadata": {
        "id": "-mgyUvuFMt-q"
      },
      "id": "-mgyUvuFMt-q",
      "execution_count": null,
      "outputs": []
    }
  ],
  "metadata": {
    "kernelspec": {
      "display_name": "Python 3",
      "language": "python",
      "name": "python3"
    },
    "language_info": {
      "codemirror_mode": {
        "name": "ipython",
        "version": 3
      },
      "file_extension": ".py",
      "mimetype": "text/x-python",
      "name": "python",
      "nbconvert_exporter": "python",
      "pygments_lexer": "ipython3",
      "version": "3.10.10"
    },
    "colab": {
      "provenance": []
    }
  },
  "nbformat": 4,
  "nbformat_minor": 5
}