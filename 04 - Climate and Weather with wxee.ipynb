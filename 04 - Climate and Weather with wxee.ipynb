{
  "cells": [
    {
      "cell_type": "markdown",
      "source": [
        "[wxee](https://github.com/aazuspan/wxee) was built to make processing gridded, mesoscale time series data quick and easy by integrating the data catalog and processing power of Google Earth Engine with the flexibility of xarray, with no complicated setup required."
      ],
      "metadata": {
        "id": "8cltMeUQUB31"
      },
      "id": "8cltMeUQUB31"
    },
    {
      "cell_type": "markdown",
      "id": "a9342b8c",
      "metadata": {
        "id": "a9342b8c"
      },
      "source": [
        "# Climatological Anomalies\n",
        "\n",
        "In this tutorial, we'll look at how to use wxee to calculate long-term climatological anomalies with gridded weather data. Anomalies represent the difference between an observation and the long-term climatological mean for a given day or month."
      ]
    },
    {
      "cell_type": "markdown",
      "id": "75d81e40",
      "metadata": {
        "id": "75d81e40"
      },
      "source": [
        "## Setup"
      ]
    },
    {
      "cell_type": "code",
      "execution_count": null,
      "id": "05de0297",
      "metadata": {
        "id": "05de0297"
      },
      "outputs": [],
      "source": [
        "# Install wxee\n",
        "!pip install wxee"
      ]
    },
    {
      "cell_type": "code",
      "execution_count": null,
      "id": "4812b3ea",
      "metadata": {
        "ExecuteTime": {
          "end_time": "2021-10-03T04:43:04.187797Z",
          "start_time": "2021-10-03T04:43:01.939738Z"
        },
        "id": "4812b3ea"
      },
      "outputs": [],
      "source": [
        "# Authenticate and Initialize Earth Engine\n",
        "import ee\n",
        "import wxee\n",
        "\n",
        "# Authenticate as your Qwiklabs User\n",
        "ee.Authenticate()\n",
        "# Initialize the library by specifying the GCP project\n",
        "your_project_id = ''\n",
        "ee.Initialize(project=your_project_id)"
      ]
    },
    {
      "cell_type": "markdown",
      "id": "c00b867d",
      "metadata": {
        "id": "c00b867d"
      },
      "source": [
        "## June 2021 Heat Wave\n",
        "In late June of 2021, the Pacific Northwest of North America experienced an historic heat wave that broke many temperature records. Calculating monthly max temperature anomalies for this period will highlight just how unusual the observed weather was."
      ]
    },
    {
      "cell_type": "markdown",
      "id": "60d729a5",
      "metadata": {
        "id": "60d729a5"
      },
      "source": [
        "### Reference and Observation Data\n",
        "\n",
        "To start, we'll load a `TimeSeries` of daily temperature data from [gridMET](http://www.climatologylab.org/gridmet.html)."
      ]
    },
    {
      "cell_type": "code",
      "execution_count": null,
      "id": "3b03455f",
      "metadata": {
        "ExecuteTime": {
          "end_time": "2021-10-03T04:43:05.102191Z",
          "start_time": "2021-10-03T04:43:05.099493Z"
        },
        "id": "3b03455f"
      },
      "outputs": [],
      "source": [
        "temp = wxee.TimeSeries(\"IDAHO_EPSCOR/GRIDMET\").select(\"tmmx\")"
      ]
    },
    {
      "cell_type": "markdown",
      "id": "4bfff921",
      "metadata": {
        "id": "4bfff921"
      },
      "source": [
        "Next, we'll split our `TimeSeries` into two periods.\n",
        "\n",
        "The first `TimeSeries` will be our 30-year reference period for calculating long-term climatological normals. We'll use this as a baseline to identify anomalies during the heat wave."
      ]
    },
    {
      "cell_type": "code",
      "execution_count": null,
      "id": "3fc76edb",
      "metadata": {
        "ExecuteTime": {
          "end_time": "2021-10-03T04:43:07.006310Z",
          "start_time": "2021-10-03T04:43:07.000278Z"
        },
        "id": "3fc76edb"
      },
      "outputs": [],
      "source": [
        "ref = temp.filterDate(\"1980\", \"2010\")"
      ]
    },
    {
      "cell_type": "markdown",
      "id": "8e772447",
      "metadata": {
        "id": "8e772447"
      },
      "source": [
        "The second `TimeSeries` is our observation period, spanning about five months around the June heat wave."
      ]
    },
    {
      "cell_type": "code",
      "execution_count": null,
      "id": "116b2919",
      "metadata": {
        "ExecuteTime": {
          "end_time": "2021-10-03T04:43:07.957474Z",
          "start_time": "2021-10-03T04:43:07.954829Z"
        },
        "id": "116b2919"
      },
      "outputs": [],
      "source": [
        "obs = temp.filterDate(\"2021-04\", \"2021-09\")"
      ]
    },
    {
      "cell_type": "markdown",
      "id": "52a92f0d",
      "metadata": {
        "id": "52a92f0d"
      },
      "source": [
        "### Climatological Mean\n",
        "\n",
        "Now we can calculate the monthly climatological mean temperature over our reference period. We'll use `ee.Reducer.max()` to get the maximum daily temperature in each month."
      ]
    },
    {
      "cell_type": "code",
      "execution_count": null,
      "id": "21d2b5f3",
      "metadata": {
        "ExecuteTime": {
          "end_time": "2021-10-03T04:43:09.703362Z",
          "start_time": "2021-10-03T04:43:09.694897Z"
        },
        "id": "21d2b5f3"
      },
      "outputs": [],
      "source": [
        "mean_clim = ref.climatology_mean(\"month\", reducer=ee.Reducer.max())"
      ]
    },
    {
      "cell_type": "markdown",
      "id": "015c9aa3",
      "metadata": {
        "id": "015c9aa3"
      },
      "source": [
        "### Climatological Anomaly\n",
        "\n",
        "Now we'll calculate monthly temperature anomalies within our observation period based on the climatological means from our reference period.\n",
        "\n",
        "The same `frequency` and `reducer` used in by `mean_clim` will be applied to the climatology anomaly."
      ]
    },
    {
      "cell_type": "code",
      "execution_count": null,
      "id": "84c86c1d",
      "metadata": {
        "ExecuteTime": {
          "end_time": "2021-10-03T04:43:13.365345Z",
          "start_time": "2021-10-03T04:43:13.357588Z"
        },
        "id": "84c86c1d"
      },
      "outputs": [],
      "source": [
        "anom = obs.climatology_anomaly(mean=mean_clim)"
      ]
    },
    {
      "cell_type": "markdown",
      "id": "00d35a31",
      "metadata": {
        "id": "00d35a31"
      },
      "source": [
        "Download the data to an `xarray.Dataset`."
      ]
    },
    {
      "cell_type": "code",
      "execution_count": null,
      "id": "1059d46d",
      "metadata": {
        "ExecuteTime": {
          "end_time": "2021-10-03T04:44:05.640192Z",
          "start_time": "2021-10-03T04:43:15.490261Z"
        },
        "scrolled": true,
        "id": "1059d46d"
      },
      "outputs": [],
      "source": [
        "ds = anom.wx.to_xarray(crs=\"EPSG:5070\", scale=20_000)"
      ]
    },
    {
      "cell_type": "markdown",
      "id": "bf0f4dcb",
      "metadata": {
        "id": "bf0f4dcb"
      },
      "source": [
        "Plotting the monthly data, we can see that maximum temperatures in June in the Pacific Northwest exceeded long-term climatological normals by more than **15 °C**!"
      ]
    },
    {
      "cell_type": "code",
      "execution_count": null,
      "id": "010e69d4",
      "metadata": {
        "ExecuteTime": {
          "end_time": "2021-10-03T04:44:06.286348Z",
          "start_time": "2021-10-03T04:44:05.641182Z"
        },
        "id": "010e69d4"
      },
      "outputs": [],
      "source": [
        "ds.tmmx.plot(\n",
        "    col=\"time\", col_wrap=2, aspect=1.5,\n",
        "    vmin=-15, vmax=15,\n",
        "    cmap=\"RdBu_r\"\n",
        ")"
      ]
    },
    {
      "cell_type": "markdown",
      "id": "51cd0cc3",
      "metadata": {
        "id": "51cd0cc3"
      },
      "source": [
        "### Standardized Anomalies\n",
        "\n",
        "Standardized anomalies, which represent the number of standard deviations that an observation differed from the long-term mean, can also be calculated with `wxee`. Just calculate a long-term climatological standard deviation using `TimeSeries.climatology_std` and pass that to the `std` argument!"
      ]
    },
    {
      "cell_type": "code",
      "execution_count": null,
      "id": "287af865",
      "metadata": {
        "ExecuteTime": {
          "end_time": "2021-10-03T04:44:09.657225Z",
          "start_time": "2021-10-03T04:44:09.643148Z"
        },
        "id": "287af865"
      },
      "outputs": [],
      "source": [
        "std_clim = ref.climatology_std(\"month\", reducer=ee.Reducer.max())\n",
        "\n",
        "std_anom = obs.climatology_anomaly(\n",
        "    mean=mean_clim,\n",
        "    std=std_clim,\n",
        ")"
      ]
    },
    {
      "cell_type": "markdown",
      "id": "b3450a69",
      "metadata": {
        "id": "b3450a69"
      },
      "source": [
        "Download to an `xarray.Dataset`."
      ]
    },
    {
      "cell_type": "code",
      "execution_count": null,
      "id": "fbaeb605",
      "metadata": {
        "ExecuteTime": {
          "end_time": "2021-10-03T04:45:09.163907Z",
          "start_time": "2021-10-03T04:44:11.440762Z"
        },
        "scrolled": true,
        "id": "fbaeb605"
      },
      "outputs": [],
      "source": [
        "std_ds = std_anom.wx.to_xarray(crs=\"EPSG:5070\", scale=20_000)"
      ]
    },
    {
      "cell_type": "markdown",
      "id": "91920d18",
      "metadata": {
        "id": "91920d18"
      },
      "source": [
        "And plot! The data looks similar to above, but now we know that the ~15 °C anomalies that we saw above were more than **4 standard deviations** hotter than the long-term mean!"
      ]
    },
    {
      "cell_type": "code",
      "execution_count": null,
      "id": "8e5ebe46",
      "metadata": {
        "ExecuteTime": {
          "end_time": "2021-10-03T04:45:09.790294Z",
          "start_time": "2021-10-03T04:45:09.165015Z"
        },
        "id": "8e5ebe46"
      },
      "outputs": [],
      "source": [
        "std_ds.tmmx.plot(\n",
        "    col=\"time\", col_wrap=2, aspect=1.5,\n",
        "    vmin=-5, vmax=5,\n",
        "    cmap=\"RdBu_r\"\n",
        ")"
      ]
    }
  ],
  "metadata": {
    "kernelspec": {
      "display_name": "Python 3 (ipykernel)",
      "language": "python",
      "name": "python3"
    },
    "language_info": {
      "codemirror_mode": {
        "name": "ipython",
        "version": 3
      },
      "file_extension": ".py",
      "mimetype": "text/x-python",
      "name": "python",
      "nbconvert_exporter": "python",
      "pygments_lexer": "ipython3",
      "version": "3.9.6"
    },
    "colab": {
      "provenance": []
    }
  },
  "nbformat": 4,
  "nbformat_minor": 5
}